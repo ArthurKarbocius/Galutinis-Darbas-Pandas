{
 "cells": [
  {
   "cell_type": "code",
   "execution_count": null,
   "metadata": {},
   "outputs": [],
   "source": [
    "import pandas as pd\n",
    "\n",
    "duomenys = pd.read_csv(\"2018.csv\") # Nuskaitomas 2018.csv duomenų failas\n",
    "print(duomenys)"
   ]
  },
  {
   "attachments": {},
   "cell_type": "markdown",
   "metadata": {},
   "source": [
    "- Atrinkite visas skirtingas programavimo kalbas su kuo dirba žmonės."
   ]
  },
  {
   "cell_type": "code",
   "execution_count": 2,
   "metadata": {},
   "outputs": [
    {
     "name": "stdout",
     "output_type": "stream",
     "text": [
      "['PHP' 'JavaScript' '.NET' 'C++' 'Node.js' 'Python' 'Ruby' 'Other' 'JAVA'\n",
      " 'Objective-C' 'Golang' 'SQL']\n"
     ]
    }
   ],
   "source": [
    "prog_kalbos = duomenys['Šaltinis'].unique()\n",
    "print(prog_kalbos)"
   ]
  },
  {
   "attachments": {},
   "cell_type": "markdown",
   "metadata": {},
   "source": [
    "- Atrinkite visus skirtingus miestus iš kurių yra šie respondentai."
   ]
  },
  {
   "cell_type": "code",
   "execution_count": 145,
   "metadata": {},
   "outputs": [
    {
     "name": "stdout",
     "output_type": "stream",
     "text": [
      "['Užsienis' 'Vilnius' 'Kaunas' 'Klaipėda' 'Kaunas ' 'Panevėžys' 'Šiauliai'\n",
      " 'Vilnius ' 'Vinius' 'Kita' 'VIlnius' 'Vilniuje']\n"
     ]
    }
   ],
   "source": [
    "miestai = duomenys['Miestas'].unique()\n",
    "print(miestai)"
   ]
  },
  {
   "attachments": {},
   "cell_type": "markdown",
   "metadata": {},
   "source": [
    "- Raskite didžiausią ir mažiausią įvestus atlyginimus."
   ]
  },
  {
   "cell_type": "code",
   "execution_count": 48,
   "metadata": {},
   "outputs": [
    {
     "name": "stdout",
     "output_type": "stream",
     "text": [
      "Minimalus atlygis: 200.0 eur.\n",
      "Maksimalus atlygis: 10000.0 eur.\n"
     ]
    }
   ],
   "source": [
    "minimalus = duomenys['Atlyginimas'].min()\n",
    "print('Minimalus atlygis:', minimalus, 'eur.' )\n",
    "maksimalus = duomenys['Atlyginimas'].max()\n",
    "print('Maksimalus atlygis:', maksimalus, 'eur.' )"
   ]
  },
  {
   "attachments": {},
   "cell_type": "markdown",
   "metadata": {},
   "source": [
    "- Raskite atlyginimų vidurkį."
   ]
  },
  {
   "cell_type": "code",
   "execution_count": 51,
   "metadata": {},
   "outputs": [
    {
     "name": "stdout",
     "output_type": "stream",
     "text": [
      "Vidutinis atlygis: 1625.0 eur.\n"
     ]
    }
   ],
   "source": [
    "vidutinis = duomenys['Atlyginimas'].mean()\n",
    "print('Vidutinis atlygis:', round(vidutinis, 0), 'eur.' )"
   ]
  },
  {
   "attachments": {},
   "cell_type": "markdown",
   "metadata": {},
   "source": [
    "- Raskite atlyginimų vidurkius pagal lygį (1 - junior, 2 - mid, 3 - senior)."
   ]
  },
  {
   "cell_type": "code",
   "execution_count": 66,
   "metadata": {},
   "outputs": [
    {
     "name": "stdout",
     "output_type": "stream",
     "text": [
      "lygis\n",
      "1.0     876.0\n",
      "2.0    1455.0\n",
      "3.0    2665.0\n",
      "Name: Atlyginimas, dtype: float64\n"
     ]
    }
   ],
   "source": [
    "vid_pagal_lygi = duomenys.groupby('lygis')['Atlyginimas'].mean()\n",
    "print(round(vid_pagal_lygi, 0))"
   ]
  },
  {
   "attachments": {},
   "cell_type": "markdown",
   "metadata": {},
   "source": [
    "- Papildoma mano sugalvota užduotis*. \n",
    "\n",
    "- Populiariausios programavimo kalbos mažėjimo tvarka."
   ]
  },
  {
   "cell_type": "code",
   "execution_count": 6,
   "metadata": {},
   "outputs": [
    {
     "name": "stdout",
     "output_type": "stream",
     "text": [
      "Šaltinis\n",
      "PHP            228\n",
      "JavaScript      89\n",
      ".NET            76\n",
      "JAVA            33\n",
      "Python          19\n",
      "Other           10\n",
      "Node.js          9\n",
      "Ruby             9\n",
      "C++              6\n",
      "Objective-C      3\n",
      "Golang           2\n",
      "SQL              2\n",
      "Name: Vienetų, dtype: int64\n"
     ]
    }
   ],
   "source": [
    "duomenys['Vienetų'] = 1  # sukuriamas papildomas stulpelis \"Vienetų\", priskiriant 1 vieneto reikšmę kievienam apklausos įrašui. \n",
    "popular = duomenys.groupby('Šaltinis').count().sort_values('Vienetų', ascending = False)\n",
    "print(popular['Vienetų'])"
   ]
  },
  {
   "attachments": {},
   "cell_type": "markdown",
   "metadata": {},
   "source": [
    "- Kiek sudaro procentaliai % populiariausia prog. kalba iš visų apklaustųjų bendro skaičiaus?"
   ]
  },
  {
   "cell_type": "code",
   "execution_count": 133,
   "metadata": {},
   "outputs": [
    {
     "name": "stdout",
     "output_type": "stream",
     "text": [
      "486\n",
      "46.9 %\n"
     ]
    }
   ],
   "source": [
    "suma = duomenys['Vienetų'].sum() # - bendras (suminis) apkaustųjų skaičius\n",
    "print(int(suma))\n",
    "PHP = popular.max() / suma * 100\n",
    "print(round(PHP['Vienetų'], 1), \"%\")"
   ]
  }
 ],
 "metadata": {
  "kernelspec": {
   "display_name": "Python 3",
   "language": "python",
   "name": "python3"
  },
  "language_info": {
   "codemirror_mode": {
    "name": "ipython",
    "version": 3
   },
   "file_extension": ".py",
   "mimetype": "text/x-python",
   "name": "python",
   "nbconvert_exporter": "python",
   "pygments_lexer": "ipython3",
   "version": "3.11.1"
  },
  "orig_nbformat": 4,
  "vscode": {
   "interpreter": {
    "hash": "1f1d3112f726cc6c3ea52e0fc497bca539f1a1f40ecbc40df8770494874b3b8f"
   }
  }
 },
 "nbformat": 4,
 "nbformat_minor": 2
}
